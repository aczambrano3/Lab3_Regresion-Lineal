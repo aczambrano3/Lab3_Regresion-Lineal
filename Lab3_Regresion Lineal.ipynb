{
 "cells": [
  {
   "cell_type": "code",
   "execution_count": 1,
   "id": "76eb89ca",
   "metadata": {},
   "outputs": [],
   "source": [
    "%matplotlib notebook \n",
    "import matplotlib.pyplot as plt\n",
    "from scipy import stats\n",
    "import numpy as np"
   ]
  },
  {
   "cell_type": "code",
   "execution_count": 7,
   "id": "1c4e2d92",
   "metadata": {},
   "outputs": [
    {
     "data": {
      "text/plain": [
       "array([17.94817139, 15.00931241,  7.05060433, 16.52440671,  2.76810954,\n",
       "        0.38952698,  0.04026184,  5.1907577 ,  5.13409737])"
      ]
     },
     "execution_count": 7,
     "metadata": {},
     "output_type": "execute_result"
    }
   ],
   "source": [
    "rango = np.random.default_rng()\n",
    "x = rango.random(9)\n",
    "y = 22*rango.random(9)\n",
    "y"
   ]
  },
  {
   "cell_type": "code",
   "execution_count": 5,
   "id": "f031ac53",
   "metadata": {},
   "outputs": [
    {
     "data": {
      "text/plain": [
       "array([0.21385248, 0.86856193, 0.64591842, 0.85230179, 0.12563537,\n",
       "       0.12531406, 0.95241648, 0.54058228, 0.06742271])"
      ]
     },
     "execution_count": 5,
     "metadata": {},
     "output_type": "execute_result"
    }
   ],
   "source": [
    "x"
   ]
  },
  {
   "cell_type": "code",
   "execution_count": null,
   "id": "31e2bdca",
   "metadata": {},
   "outputs": [],
   "source": []
  }
 ],
 "metadata": {
  "kernelspec": {
   "display_name": "Python 3 (ipykernel)",
   "language": "python",
   "name": "python3"
  },
  "language_info": {
   "codemirror_mode": {
    "name": "ipython",
    "version": 3
   },
   "file_extension": ".py",
   "mimetype": "text/x-python",
   "name": "python",
   "nbconvert_exporter": "python",
   "pygments_lexer": "ipython3",
   "version": "3.9.7"
  }
 },
 "nbformat": 4,
 "nbformat_minor": 5
}
